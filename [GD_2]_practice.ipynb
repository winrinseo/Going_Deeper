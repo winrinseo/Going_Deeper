{
  "cells": [
    {
      "cell_type": "code",
      "execution_count": 1,
      "metadata": {
        "id": "8g4Zh2JxfbNI"
      },
      "outputs": [],
      "source": [
        "import tensorflow as tf\n",
        "from tensorflow import keras\n",
        "\n",
        "# Helper libraries\n",
        "import numpy as np\n",
        "import matplotlib.pyplot as plt\n",
        "\n",
        "import tensorflow_datasets as tfds"
      ]
    },
    {
      "cell_type": "code",
      "execution_count": null,
      "metadata": {
        "colab": {
          "base_uri": "https://localhost:8080/"
        },
        "id": "vJiTabXLNVMb",
        "outputId": "201fd800-82a1-4e16-cc3b-b12ad3d11140"
      },
      "outputs": [
        {
          "data": {
            "text/plain": [
              "[PhysicalDevice(name='/physical_device:GPU:0', device_type='GPU')]"
            ]
          },
          "execution_count": 2,
          "metadata": {},
          "output_type": "execute_result"
        }
      ],
      "source": [
        "tf.config.list_physical_devices('GPU')"
      ]
    },
    {
      "cell_type": "code",
      "execution_count": null,
      "metadata": {
        "id": "eceSH488Ngvk"
      },
      "outputs": [],
      "source": [
        "import urllib3\n",
        "urllib3.disable_warnings()\n",
        "\n",
        "#tfds.disable_progress_bar()   # 이 주석을 풀면 데이터셋 다운로드과정의 프로그레스바가 나타나지 않습니다.\n",
        "\n",
        "(ds_train, ds_test), ds_info = tfds.load(\n",
        "    'cifar10',\n",
        "    split=['train', 'test'],\n",
        "    shuffle_files=True,\n",
        "    with_info=True,\n",
        ")"
      ]
    },
    {
      "cell_type": "code",
      "execution_count": null,
      "metadata": {
        "colab": {
          "base_uri": "https://localhost:8080/"
        },
        "id": "eHyXroDsN1fE",
        "outputId": "ec7c09c4-2ecf-4a99-993c-790a3d032140"
      },
      "outputs": [
        {
          "name": "stdout",
          "output_type": "stream",
          "text": [
            "FeaturesDict({\n",
            "    'id': Text(shape=(), dtype=tf.string),\n",
            "    'image': Image(shape=(32, 32, 3), dtype=tf.uint8),\n",
            "    'label': ClassLabel(shape=(), dtype=tf.int64, num_classes=10),\n",
            "})\n",
            "tf.Tensor(50000, shape=(), dtype=int64)\n",
            "tf.Tensor(10000, shape=(), dtype=int64)\n"
          ]
        }
      ],
      "source": [
        "print(ds_info.features)\n",
        "print(tf.data.experimental.cardinality(ds_train))\n",
        "print(tf.data.experimental.cardinality(ds_test))"
      ]
    },
    {
      "cell_type": "markdown",
      "metadata": {
        "id": "7otVm45cN_hM"
      },
      "source": [
        "* 텐서플로우의 데이터셋은 numpy가 아니므로 shape가 따로 존재하지 않음.  \n",
        "단, features로 shape를 알수있음"
      ]
    },
    {
      "cell_type": "markdown",
      "metadata": {
        "id": "DAlBcHTBOg3N"
      },
      "source": [
        "## Input Normalization\n",
        "Data Normalization은 데이터의 범위를 사용자가 원하는 범위로 제한하는 것.  \n",
        "\n",
        "### Data Normalization을 하는 이유?\n",
        "머신러닝에서 scale이 큰 feature의 영향이 커지는 것을 방지하고 (gradient vanishing,explode 등의 문제점),   딥러닝에서 Local optima에 빠질 위험을 줄임(학습 속도 향상)"
      ]
    },
    {
      "cell_type": "code",
      "execution_count": null,
      "metadata": {
        "id": "JmuIVCWsOlOz"
      },
      "outputs": [],
      "source": [
        "# 0 ~ 1(또는 -1 ~ 1) 사이의 실수값으로 정규화한다.\n",
        "def normalize_and_resize_img(image, label):\n",
        "    \"\"\"Normalizes images: `uint8` -> `float32`.\"\"\"\n",
        "    # image = tf.image.resize(image, [32, 32])\n",
        "    return tf.cast(image, tf.float32) / 255., label\n",
        "\n",
        "#  전체 데이터셋을 모두 정규화한다.\n",
        "def apply_normalize_on_dataset(ds, is_test=False, batch_size=16):\n",
        "    ds = ds.map(\n",
        "        normalize_and_resize_img, \n",
        "        num_parallel_calls=1\n",
        "    )\n",
        "    ds = ds.batch(batch_size)\n",
        "    if not is_test:\n",
        "        ds = ds.repeat()\n",
        "        ds = ds.shuffle(200)\n",
        "    ds = ds.prefetch(tf.data.experimental.AUTOTUNE)\n",
        "    return ds"
      ]
    },
    {
      "cell_type": "markdown",
      "metadata": {
        "id": "BiLQgM1jvs_V"
      },
      "source": [
        "### 블록 구성\n",
        "모델을 프로그램으로 구현할 때 논문 그래도 구현하는 것도 중요하지만 반복되는 부분이 매우 많기 때문에 코드가 길어지고 변경사항을 적용시키기 매우 어렵다.  \n",
        "따라서 이런 반복되는 부분을 줄여 변경사항을 손쉽게 적용시킬 수 있도록 만들어 놓는것이 필요하다.\n",
        "\n",
        "주요 구조를 모듈화 시켜 조금씩 바꾸어 사용할 수 있는 단위를 블록이라고 부른다.  \n",
        "레이어는 라이브러리에서 기본적으로 제공하는 단위지만 여기서 한단계 위인 블록을 단위로 모델을 구성하는 것이 좋다."
      ]
    },
    {
      "cell_type": "markdown",
      "metadata": {
        "id": "SFz49cltxFEl"
      },
      "source": [
        "### VGG 블록 구성\n",
        "VGG의 블록은 여러개의 Conv 레이어와 Max Pooling 레이어 하나로 이루어 지는데 Conv 레이어의 필터 크기는 모두 3*3이라는 특징이 있다.  \n",
        "또한, 한 블록 내의 채널 수는 동일하지만 다른 블록간의 채널 수는 다를 수 있고 다른 블록간의 Conv레이어의 수 역시 다를 수 있다."
      ]
    },
    {
      "cell_type": "code",
      "execution_count": null,
      "metadata": {
        "id": "Mw7UoBz4ONuh"
      },
      "outputs": [],
      "source": [
        "# function for building VGG Block\n",
        "\n",
        "def build_vgg_block(input_layer,\n",
        "                    num_cnn=3, \n",
        "                    channel=64,\n",
        "                    block_num=1,\n",
        "                   ):\n",
        "    # 입력 레이어\n",
        "    x = input_layer\n",
        "\n",
        "    # CNN 레이어\n",
        "    for cnn_num in range(num_cnn):\n",
        "        x = keras.layers.Conv2D(\n",
        "            filters=channel,\n",
        "            kernel_size=(3,3),\n",
        "            activation='relu',\n",
        "            kernel_initializer='he_normal',\n",
        "            padding='same',\n",
        "            name=f'block{block_num}_conv{cnn_num}'\n",
        "        )(x)    \n",
        "\n",
        "    # Max Pooling 레이어\n",
        "    x = keras.layers.MaxPooling2D(\n",
        "        pool_size=(2, 2),\n",
        "        strides=2,\n",
        "        name=f'block{block_num}_pooling'\n",
        "    )(x)\n",
        "\n",
        "    return x"
      ]
    },
    {
      "cell_type": "code",
      "execution_count": null,
      "metadata": {
        "id": "W01FjW-F10PE"
      },
      "outputs": [],
      "source": [
        "vgg_input_layer = keras.layers.Input(shape=(32,32,3))   # 입력 레이어 생성\n",
        "vgg_block_output = build_vgg_block(vgg_input_layer)    # VGG 블록 생성"
      ]
    },
    {
      "cell_type": "code",
      "execution_count": null,
      "metadata": {
        "colab": {
          "base_uri": "https://localhost:8080/"
        },
        "id": "MK3rYuky11HV",
        "outputId": "39fbbfda-676d-42dd-c2da-ab96f860cd27"
      },
      "outputs": [
        {
          "name": "stdout",
          "output_type": "stream",
          "text": [
            "Model: \"model\"\n",
            "_________________________________________________________________\n",
            " Layer (type)                Output Shape              Param #   \n",
            "=================================================================\n",
            " input_1 (InputLayer)        [(None, 32, 32, 3)]       0         \n",
            "                                                                 \n",
            " block1_conv0 (Conv2D)       (None, 32, 32, 64)        1792      \n",
            "                                                                 \n",
            " block1_conv1 (Conv2D)       (None, 32, 32, 64)        36928     \n",
            "                                                                 \n",
            " block1_conv2 (Conv2D)       (None, 32, 32, 64)        36928     \n",
            "                                                                 \n",
            " block1_pooling (MaxPooling2  (None, 16, 16, 64)       0         \n",
            " D)                                                              \n",
            "                                                                 \n",
            "=================================================================\n",
            "Total params: 75,648\n",
            "Trainable params: 75,648\n",
            "Non-trainable params: 0\n",
            "_________________________________________________________________\n"
          ]
        }
      ],
      "source": [
        "# 블록 1개짜리 model 생성\n",
        "model = keras.Model(inputs=vgg_input_layer, outputs=vgg_block_output)  \n",
        "\n",
        "model.summary()"
      ]
    },
    {
      "cell_type": "markdown",
      "metadata": {
        "id": "VaBxqxax2VNE"
      },
      "source": [
        "### VGG-16"
      ]
    },
    {
      "cell_type": "code",
      "execution_count": null,
      "metadata": {
        "id": "YjaF7PeU3FsE"
      },
      "outputs": [],
      "source": [
        "# VGG 모델 자체를 생성하는 함수입니다.\n",
        "def build_vgg(input_shape=(32,32,3),\n",
        "              num_cnn_list=[2,2,3,3,3],\n",
        "              channel_list=[64,128,256,512,512],\n",
        "              num_classes=10):\n",
        "    \n",
        "    assert len(num_cnn_list) == len(channel_list) #모델을 만들기 전에 config list들이 같은 길이인지 확인합니다.\n",
        "    \n",
        "    input_layer = keras.layers.Input(shape=input_shape)  # input layer를 만들어둡니다.\n",
        "    output = input_layer\n",
        "    \n",
        "    # config list들의 길이만큼 반복해서 블록을 생성합니다.\n",
        "    for i, (num_cnn, channel) in enumerate(zip(num_cnn_list, channel_list)):\n",
        "        # 마치 연결리스트처럼 만들어짐\n",
        "        output = build_vgg_block(\n",
        "            output,\n",
        "            num_cnn=num_cnn, \n",
        "            channel=channel,\n",
        "            block_num=i\n",
        "        )\n",
        "        \n",
        "    output = keras.layers.Flatten(name='flatten')(output)\n",
        "    output = keras.layers.Dense(4096, activation='relu', name='fc1')(output)\n",
        "    output = keras.layers.Dense(4096, activation='relu', name='fc2')(output)\n",
        "    output = keras.layers.Dense(num_classes, activation='softmax', name='predictions')(output)\n",
        "    \n",
        "    model = keras.Model(\n",
        "        inputs=input_layer, \n",
        "        outputs=output\n",
        "    )\n",
        "    return model"
      ]
    },
    {
      "cell_type": "code",
      "execution_count": null,
      "metadata": {
        "colab": {
          "base_uri": "https://localhost:8080/"
        },
        "id": "cmEr-viP3Xo0",
        "outputId": "0814eeb9-5496-454b-ec08-069d1f721c99"
      },
      "outputs": [
        {
          "name": "stdout",
          "output_type": "stream",
          "text": [
            "Model: \"model_1\"\n",
            "_________________________________________________________________\n",
            " Layer (type)                Output Shape              Param #   \n",
            "=================================================================\n",
            " input_2 (InputLayer)        [(None, 32, 32, 3)]       0         \n",
            "                                                                 \n",
            " block0_conv0 (Conv2D)       (None, 32, 32, 64)        1792      \n",
            "                                                                 \n",
            " block0_conv1 (Conv2D)       (None, 32, 32, 64)        36928     \n",
            "                                                                 \n",
            " block0_pooling (MaxPooling2  (None, 16, 16, 64)       0         \n",
            " D)                                                              \n",
            "                                                                 \n",
            " block1_conv0 (Conv2D)       (None, 16, 16, 128)       73856     \n",
            "                                                                 \n",
            " block1_conv1 (Conv2D)       (None, 16, 16, 128)       147584    \n",
            "                                                                 \n",
            " block1_pooling (MaxPooling2  (None, 8, 8, 128)        0         \n",
            " D)                                                              \n",
            "                                                                 \n",
            " block2_conv0 (Conv2D)       (None, 8, 8, 256)         295168    \n",
            "                                                                 \n",
            " block2_conv1 (Conv2D)       (None, 8, 8, 256)         590080    \n",
            "                                                                 \n",
            " block2_conv2 (Conv2D)       (None, 8, 8, 256)         590080    \n",
            "                                                                 \n",
            " block2_pooling (MaxPooling2  (None, 4, 4, 256)        0         \n",
            " D)                                                              \n",
            "                                                                 \n",
            " block3_conv0 (Conv2D)       (None, 4, 4, 512)         1180160   \n",
            "                                                                 \n",
            " block3_conv1 (Conv2D)       (None, 4, 4, 512)         2359808   \n",
            "                                                                 \n",
            " block3_conv2 (Conv2D)       (None, 4, 4, 512)         2359808   \n",
            "                                                                 \n",
            " block3_pooling (MaxPooling2  (None, 2, 2, 512)        0         \n",
            " D)                                                              \n",
            "                                                                 \n",
            " block4_conv0 (Conv2D)       (None, 2, 2, 512)         2359808   \n",
            "                                                                 \n",
            " block4_conv1 (Conv2D)       (None, 2, 2, 512)         2359808   \n",
            "                                                                 \n",
            " block4_conv2 (Conv2D)       (None, 2, 2, 512)         2359808   \n",
            "                                                                 \n",
            " block4_pooling (MaxPooling2  (None, 1, 1, 512)        0         \n",
            " D)                                                              \n",
            "                                                                 \n",
            " flatten (Flatten)           (None, 512)               0         \n",
            "                                                                 \n",
            " fc1 (Dense)                 (None, 4096)              2101248   \n",
            "                                                                 \n",
            " fc2 (Dense)                 (None, 4096)              16781312  \n",
            "                                                                 \n",
            " predictions (Dense)         (None, 10)                40970     \n",
            "                                                                 \n",
            "=================================================================\n",
            "Total params: 33,638,218\n",
            "Trainable params: 33,638,218\n",
            "Non-trainable params: 0\n",
            "_________________________________________________________________\n"
          ]
        }
      ],
      "source": [
        "# 기본값을 그대로 사용해서 VGG 모델을 만들면 VGG-16이 됩니다.\n",
        "vgg_16 = build_vgg()\n",
        "\n",
        "vgg_16.summary()"
      ]
    },
    {
      "cell_type": "code",
      "execution_count": null,
      "metadata": {
        "colab": {
          "base_uri": "https://localhost:8080/"
        },
        "id": "iiw7ZcqeK3lQ",
        "outputId": "ebd8acd2-6268-4169-dcf5-0efe6301683a"
      },
      "outputs": [
        {
          "name": "stdout",
          "output_type": "stream",
          "text": [
            "Model: \"model_2\"\n",
            "_________________________________________________________________\n",
            " Layer (type)                Output Shape              Param #   \n",
            "=================================================================\n",
            " input_3 (InputLayer)        [(None, 32, 32, 3)]       0         \n",
            "                                                                 \n",
            " block0_conv0 (Conv2D)       (None, 32, 32, 64)        1792      \n",
            "                                                                 \n",
            " block0_conv1 (Conv2D)       (None, 32, 32, 64)        36928     \n",
            "                                                                 \n",
            " block0_pooling (MaxPooling2  (None, 16, 16, 64)       0         \n",
            " D)                                                              \n",
            "                                                                 \n",
            " block1_conv0 (Conv2D)       (None, 16, 16, 128)       73856     \n",
            "                                                                 \n",
            " block1_conv1 (Conv2D)       (None, 16, 16, 128)       147584    \n",
            "                                                                 \n",
            " block1_pooling (MaxPooling2  (None, 8, 8, 128)        0         \n",
            " D)                                                              \n",
            "                                                                 \n",
            " block2_conv0 (Conv2D)       (None, 8, 8, 256)         295168    \n",
            "                                                                 \n",
            " block2_conv1 (Conv2D)       (None, 8, 8, 256)         590080    \n",
            "                                                                 \n",
            " block2_conv2 (Conv2D)       (None, 8, 8, 256)         590080    \n",
            "                                                                 \n",
            " block2_conv3 (Conv2D)       (None, 8, 8, 256)         590080    \n",
            "                                                                 \n",
            " block2_pooling (MaxPooling2  (None, 4, 4, 256)        0         \n",
            " D)                                                              \n",
            "                                                                 \n",
            " block3_conv0 (Conv2D)       (None, 4, 4, 512)         1180160   \n",
            "                                                                 \n",
            " block3_conv1 (Conv2D)       (None, 4, 4, 512)         2359808   \n",
            "                                                                 \n",
            " block3_conv2 (Conv2D)       (None, 4, 4, 512)         2359808   \n",
            "                                                                 \n",
            " block3_conv3 (Conv2D)       (None, 4, 4, 512)         2359808   \n",
            "                                                                 \n",
            " block3_pooling (MaxPooling2  (None, 2, 2, 512)        0         \n",
            " D)                                                              \n",
            "                                                                 \n",
            " block4_conv0 (Conv2D)       (None, 2, 2, 512)         2359808   \n",
            "                                                                 \n",
            " block4_conv1 (Conv2D)       (None, 2, 2, 512)         2359808   \n",
            "                                                                 \n",
            " block4_conv2 (Conv2D)       (None, 2, 2, 512)         2359808   \n",
            "                                                                 \n",
            " block4_conv3 (Conv2D)       (None, 2, 2, 512)         2359808   \n",
            "                                                                 \n",
            " block4_pooling (MaxPooling2  (None, 1, 1, 512)        0         \n",
            " D)                                                              \n",
            "                                                                 \n",
            " flatten (Flatten)           (None, 512)               0         \n",
            "                                                                 \n",
            " fc1 (Dense)                 (None, 4096)              2101248   \n",
            "                                                                 \n",
            " fc2 (Dense)                 (None, 4096)              16781312  \n",
            "                                                                 \n",
            " predictions (Dense)         (None, 10)                40970     \n",
            "                                                                 \n",
            "=================================================================\n",
            "Total params: 38,947,914\n",
            "Trainable params: 38,947,914\n",
            "Non-trainable params: 0\n",
            "_________________________________________________________________\n"
          ]
        }
      ],
      "source": [
        "# VGG - 19 생성\n",
        "vgg_19 = build_vgg(\n",
        "    num_cnn_list=[2,2,4,4,4],\n",
        "    channel_list=[64,128,256,512,512]\n",
        ")\n",
        "\n",
        "vgg_19.summary()"
      ]
    },
    {
      "cell_type": "code",
      "execution_count": null,
      "metadata": {
        "id": "GpEYkD4HLB3S"
      },
      "outputs": [],
      "source": [
        "BATCH_SIZE = 256\n",
        "EPOCH = 15\n",
        "(ds_train, ds_test), ds_info = tfds.load(\n",
        "    'cifar10',\n",
        "    split=['train', 'test'],\n",
        "    as_supervised=True,\n",
        "    shuffle_files=True,\n",
        "    with_info=True,\n",
        ")\n",
        "ds_train = apply_normalize_on_dataset(ds_train, batch_size=BATCH_SIZE)\n",
        "ds_test = apply_normalize_on_dataset(ds_test, batch_size=BATCH_SIZE)"
      ]
    },
    {
      "cell_type": "markdown",
      "metadata": {
        "id": "tZn9unkuM6Gz"
      },
      "source": [
        "### VGG 모델을 학습시키고 비교해보기"
      ]
    },
    {
      "cell_type": "code",
      "execution_count": null,
      "metadata": {
        "colab": {
          "background_save": true,
          "base_uri": "https://localhost:8080/"
        },
        "id": "Df9hMoieLSep",
        "outputId": "db73119f-eb45-4861-f8e9-5a72290a678e"
      },
      "outputs": [
        {
          "name": "stdout",
          "output_type": "stream",
          "text": [
            "Epoch 1/15\n",
            "195/195 [==============================] - 5265s 27s/step - loss: 2.1820 - accuracy: 0.1944 - val_loss: 2.0722 - val_accuracy: 0.2498\n",
            "Epoch 2/15\n",
            "195/195 [==============================] - 5357s 27s/step - loss: 1.9977 - accuracy: 0.2791 - val_loss: 1.9013 - val_accuracy: 0.3134\n",
            "Epoch 3/15\n",
            "  6/195 [..............................] - ETA: 1:24:09 - loss: 1.9341 - accuracy: 0.3047"
          ]
        }
      ],
      "source": [
        "vgg_16.compile(\n",
        "    loss='sparse_categorical_crossentropy',\n",
        "    optimizer=tf.keras.optimizers.SGD(learning_rate=0.01, clipnorm=1.),\n",
        "    metrics=['accuracy'],\n",
        ")\n",
        "\n",
        "history_16 = vgg_16.fit(\n",
        "    ds_train,\n",
        "    steps_per_epoch=int(ds_info.splits['train'].num_examples/BATCH_SIZE),\n",
        "    validation_steps=int(ds_info.splits['test'].num_examples/BATCH_SIZE),\n",
        "    epochs=EPOCH,\n",
        "    validation_data=ds_test,\n",
        "    verbose=1,\n",
        "    use_multiprocessing=True,\n",
        ")"
      ]
    },
    {
      "cell_type": "code",
      "execution_count": null,
      "metadata": {
        "colab": {
          "background_save": true,
          "base_uri": "https://localhost:8080/"
        },
        "id": "xWiWOIqdNBzI",
        "outputId": "8cff82fd-8cec-44d8-ebf5-d7307390d452"
      },
      "outputs": [
        {
          "name": "stdout",
          "output_type": "stream",
          "text": [
            "Epoch 1/15\n",
            "195/195 [==============================] - 367s 2s/step - loss: 2.2460 - accuracy: 0.1471 - val_loss: 2.1536 - val_accuracy: 0.2161\n",
            "Epoch 2/15\n",
            "195/195 [==============================] - 361s 2s/step - loss: 2.0571 - accuracy: 0.2435 - val_loss: 2.0078 - val_accuracy: 0.2666\n",
            "Epoch 3/15\n",
            "195/195 [==============================] - 372s 2s/step - loss: 1.9137 - accuracy: 0.3012 - val_loss: 1.8312 - val_accuracy: 0.3351\n",
            "Epoch 4/15\n",
            "195/195 [==============================] - 363s 2s/step - loss: 1.7925 - accuracy: 0.3452 - val_loss: 1.7530 - val_accuracy: 0.3593\n",
            "Epoch 5/15\n",
            "186/195 [===========================>..] - ETA: 16s - loss: 1.6997 - accuracy: 0.3806"
          ]
        }
      ],
      "source": [
        "vgg_19.compile(\n",
        "    loss='sparse_categorical_crossentropy',\n",
        "    optimizer=tf.keras.optimizers.SGD(learning_rate=0.01, clipnorm=1.),\n",
        "    metrics=['accuracy'],\n",
        ")\n",
        "\n",
        "history_19 = vgg_19.fit(\n",
        "    ds_train,\n",
        "    steps_per_epoch=int(ds_info.splits['train'].num_examples/BATCH_SIZE),\n",
        "    validation_steps=int(ds_info.splits['test'].num_examples/BATCH_SIZE),\n",
        "    epochs=EPOCH,\n",
        "    validation_data=ds_test,\n",
        "    verbose=1,\n",
        "    use_multiprocessing=True,\n",
        ")"
      ]
    },
    {
      "cell_type": "code",
      "execution_count": null,
      "metadata": {
        "colab": {
          "base_uri": "https://localhost:8080/",
          "height": 295
        },
        "id": "ajrb3BLecQUS",
        "outputId": "64a8591f-23cc-468e-f4e3-a5ed4d2e075c"
      },
      "outputs": [
        {
          "data": {
            "image/png": "[encoded data removed]",
            "text/plain": [
              "<Figure size 432x288 with 1 Axes>"
            ]
          },
          "metadata": {},
          "output_type": "display_data"
        }
      ],
      "source": [
        "import matplotlib.pyplot as plt\n",
        "\n",
        "plt.plot(history_16.history['loss'], 'r')\n",
        "plt.plot(history_19.history['loss'], 'b')\n",
        "plt.title('Model training loss')\n",
        "plt.ylabel('Loss')\n",
        "plt.xlabel('Epoch')\n",
        "plt.legend(['vgg_16', 'vgg_19'], loc='upper left')\n",
        "plt.show()"
      ]
    },
    {
      "cell_type": "code",
      "execution_count": null,
      "metadata": {
        "colab": {
          "base_uri": "https://localhost:8080/",
          "height": 295
        },
        "id": "a9K9r21rcS8R",
        "outputId": "6dae1dd1-5290-4697-9b37-c5f4a4985d6d"
      },
      "outputs": [
        {
          "data": {
            "image/png": "[encoded data removed]",
            "text/plain": [
              "<Figure size 432x288 with 1 Axes>"
            ]
          },
          "metadata": {},
          "output_type": "display_data"
        }
      ],
      "source": [
        "plt.plot(history_16.history['val_accuracy'], 'r')\n",
        "plt.plot(history_19.history['val_accuracy'], 'b')\n",
        "plt.title('Model validation accuracy')\n",
        "plt.ylabel('Accuracy')\n",
        "plt.xlabel('Epoch')\n",
        "plt.legend(['vgg_16', 'vgg_19'], loc='upper left')\n",
        "plt.show()"
      ]
    }
  ],
  "metadata": {
    "accelerator": "GPU",
    "colab": {
      "collapsed_sections": [],
      "machine_shape": "hm",
      "name": "[GD-2] practice",
      "provenance": []
    },
    "kernelspec": {
      "display_name": "Python 3",
      "name": "python3"
    },
    "language_info": {
      "name": "python"
    }
  },
  "nbformat": 4,
  "nbformat_minor": 0
}